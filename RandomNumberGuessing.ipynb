{
 "cells": [
  {
   "cell_type": "code",
   "execution_count": 1,
   "metadata": {
    "ExecuteTime": {
     "end_time": "2021-07-04T23:33:35.382390Z",
     "start_time": "2021-07-04T23:33:35.194013Z"
    }
   },
   "outputs": [],
   "source": [
    "# Set initial stuff\n",
    "import numpy as np\n",
    "\n",
    "attempts, limit, random_number, winner  = None, None, None, False"
   ]
  },
  {
   "cell_type": "code",
   "execution_count": 2,
   "metadata": {
    "ExecuteTime": {
     "end_time": "2021-07-04T23:33:35.393185Z",
     "start_time": "2021-07-04T23:33:35.382390Z"
    }
   },
   "outputs": [],
   "source": [
    "def Init_Settings(att=3, lim=10):\n",
    "    global attempts\n",
    "    global limit\n",
    "    global random_number\n",
    "    \n",
    "    attempts = att\n",
    "\n",
    "    limit = lim\n",
    "\n",
    "    random_number =  np.random.randint(limit)\n",
    "    \n",
    "    print(f\"\"\"\n",
    "    Welcome to the most exciting game in the world: Random Number Guessing\n",
    "\n",
    "         You must type any number from 0 to {limit}\n",
    "         Your attempts are: {attempts}\n",
    "\n",
    "\n",
    "    ------------------------------------------------------------------\n",
    "\n",
    "    \"\"\")"
   ]
  },
  {
   "cell_type": "code",
   "execution_count": 3,
   "metadata": {
    "ExecuteTime": {
     "end_time": "2021-07-04T23:33:35.412134Z",
     "start_time": "2021-07-04T23:33:35.401162Z"
    }
   },
   "outputs": [],
   "source": [
    "def HintHelper():\n",
    "    \n",
    "    global user_guess_number_int\n",
    "    global random_number\n",
    "    \n",
    "    bool_tets = int(user_guess_number_int) > random_number\n",
    "    \n",
    "    if bool_tets > 0:\n",
    "        print(\"\\tSlow down, mijo; it is too high...\\n\")\n",
    "    else:\n",
    "        print(\"\\tTry a higher one, my pana!!!\\n\")"
   ]
  },
  {
   "cell_type": "code",
   "execution_count": 11,
   "metadata": {
    "ExecuteTime": {
     "end_time": "2021-07-04T23:38:29.395358Z",
     "start_time": "2021-07-04T23:38:29.390372Z"
    }
   },
   "outputs": [],
   "source": [
    "def Prize():\n",
    "    print(r\"\"\"\n",
    "\n",
    "             _.-.\n",
    "           ,'/ //\\\n",
    "          /// // /)\n",
    "         /// // //|\n",
    "        /// // ///\n",
    "       /// // ///\n",
    "      (`: // ///\n",
    "       `;`: ///\n",
    "       / /:`:/\n",
    "      / /  `'\n",
    "     / /\n",
    "    (_/ \n",
    "\n",
    "    \"\"\")"
   ]
  },
  {
   "cell_type": "code",
   "execution_count": 12,
   "metadata": {
    "ExecuteTime": {
     "end_time": "2021-07-04T23:38:58.284319Z",
     "start_time": "2021-07-04T23:38:49.714921Z"
    }
   },
   "outputs": [
    {
     "name": "stdout",
     "output_type": "stream",
     "text": [
      "\n",
      "    Welcome to the most exciting game in the world: Random Number Guessing\n",
      "\n",
      "         You must type any number from 0 to 10\n",
      "         Your attempts are: 3\n",
      "\n",
      "\n",
      "    ------------------------------------------------------------------\n",
      "\n",
      "    \n",
      "Type a number:\n",
      "5\n",
      "\n",
      "Let's try again...\n",
      "     Your attempts are: 2\n",
      "\n",
      "\n",
      "\tSlow down, mijo; it is too high...\n",
      "\n",
      "Type a number:\n",
      "3\n",
      "\n",
      "Let's try again...\n",
      "     Your attempts are: 1\n",
      "\n",
      "\n",
      "\tTry a higher one, my pana!!!\n",
      "\n",
      "Type a number:\n",
      "4\n",
      "You are a master!; congratulations...\n",
      "\n",
      "\n",
      "\n",
      "             _.-.\n",
      "           ,'/ //\\\n",
      "          /// // /)\n",
      "         /// // //|\n",
      "        /// // ///\n",
      "       /// // ///\n",
      "      (`: // ///\n",
      "       `;`: ///\n",
      "       / /:`:/\n",
      "      / /  `'\n",
      "     / /\n",
      "    (_/ \n",
      "\n",
      "    \n"
     ]
    }
   ],
   "source": [
    "Init_Settings()\n",
    "\n",
    "while attempts > 0:\n",
    "    number_validation = False\n",
    "    \n",
    "    while False == number_validation:\n",
    "        user_guess_number = input(\"Type a number:\\n\")\n",
    "        \n",
    "        user_guess_number_int = int(user_guess_number)\n",
    "        \n",
    "        number_validation = (user_guess_number_int <= limit) and (user_guess_number_int >= 0)\n",
    "        \n",
    "        if False == number_validation:\n",
    "            \n",
    "            print(f\"Type another number; yours is higher than the limit: {limit}\\n\")\n",
    "    \n",
    "    if user_guess_number_int == random_number:\n",
    "        \n",
    "        print(\"You are a master!; congratulations...\\n\")\n",
    "        \n",
    "        Prize()\n",
    "        \n",
    "        winner = True\n",
    "        \n",
    "        break\n",
    "        \n",
    "    else:\n",
    "        \n",
    "        attempts-=1\n",
    "        \n",
    "        print(f\"\\nLet's try again...\\n     Your attempts are: {attempts}\\n\\n\")\n",
    "        \n",
    "        HintHelper()\n",
    "        \n",
    "if (attempts == 0) and (winner == False):\n",
    "    print(f\"So sorry; you didn't win this match.\\n\\tThe real number was {random_number}\")"
   ]
  },
  {
   "cell_type": "code",
   "execution_count": null,
   "metadata": {},
   "outputs": [],
   "source": []
  }
 ],
 "metadata": {
  "kernelspec": {
   "display_name": "Python 3",
   "language": "python",
   "name": "python3"
  },
  "language_info": {
   "codemirror_mode": {
    "name": "ipython",
    "version": 3
   },
   "file_extension": ".py",
   "mimetype": "text/x-python",
   "name": "python",
   "nbconvert_exporter": "python",
   "pygments_lexer": "ipython3",
   "version": "3.6.4"
  }
 },
 "nbformat": 4,
 "nbformat_minor": 2
}
